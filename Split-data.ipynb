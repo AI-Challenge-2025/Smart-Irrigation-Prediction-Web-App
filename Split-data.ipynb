{
 "cells": [
  {
   "cell_type": "code",
   "execution_count": 10,
   "id": "4c56a639",
   "metadata": {},
   "outputs": [
    {
     "name": "stdout",
     "output_type": "stream",
     "text": [
      "🔹 ตัวอย่างข้อมูล:\n",
      "   Soil Moisture  Temperature   Soil Humidity  Time Status\n",
      "0             54           22              70    21     ON\n",
      "1             12           20              40   104    OFF\n",
      "2             34           26              35    62     ON\n",
      "3              7           44              44    93    OFF\n",
      "4             50           38              23    92    OFF\n",
      "\n",
      "🔹 ข้อมูลเบื้องต้น:\n",
      "<class 'pandas.core.frame.DataFrame'>\n",
      "RangeIndex: 80000 entries, 0 to 79999\n",
      "Data columns (total 5 columns):\n",
      " #   Column          Non-Null Count  Dtype \n",
      "---  ------          --------------  ----- \n",
      " 0   Soil Moisture   80000 non-null  int64 \n",
      " 1   Temperature     80000 non-null  int64 \n",
      " 2    Soil Humidity  80000 non-null  int64 \n",
      " 3   Time            80000 non-null  int64 \n",
      " 4   Status          80000 non-null  object\n",
      "dtypes: int64(4), object(1)\n",
      "memory usage: 3.1+ MB\n",
      "None\n",
      "\n",
      "🔹 มีค่าว่างหรือไม่:\n",
      "Soil Moisture     0\n",
      "Temperature       0\n",
      " Soil Humidity    0\n",
      "Time              0\n",
      "Status            0\n",
      "dtype: int64\n",
      "🔹 จำนวนข้อมูลทั้งหมด: 80000 แถว\n"
     ]
    }
   ],
   "source": [
    "import pandas as pd\n",
    "\n",
    "# โหลด Dataset\n",
    "df = pd.read_csv(\"TARP_remaining_80percent.csv\")\n",
    "\n",
    "# แสดงตัวอย่างข้อมูล 5 แถวแรก\n",
    "print(\"🔹 ตัวอย่างข้อมูล:\")\n",
    "print(df.head())\n",
    "\n",
    "# ดูข้อมูลสรุป\n",
    "print(\"\\n🔹 ข้อมูลเบื้องต้น:\")\n",
    "print(df.info())\n",
    "\n",
    "# ตรวจสอบค่าว่าง\n",
    "print(\"\\n🔹 มีค่าว่างหรือไม่:\")\n",
    "print(df.isnull().sum())\n",
    "\n",
    "print(f\"🔹 จำนวนข้อมูลทั้งหมด: {df.shape[0]} แถว\")"
   ]
  },
  {
   "cell_type": "code",
   "execution_count": 11,
   "id": "bdf87d0c",
   "metadata": {},
   "outputs": [
    {
     "name": "stdout",
     "output_type": "stream",
     "text": [
      "🔹 ตัวอย่างข้อมูล:\n",
      "   Soil Moisture  Temperature   Soil Humidity  Time  Status\n",
      "0             54           22              70    21       1\n",
      "1             12           20              40   104       0\n",
      "2             34           26              35    62       1\n",
      "3              7           44              44    93       0\n",
      "4             50           38              23    92       0\n"
     ]
    }
   ],
   "source": [
    "# แปลง Status: 'ON' → 1, 'OFF' → 0\n",
    "df['Status'] = df['Status'].apply(lambda x: 1 if x == 'ON' else 0)\n",
    "\n",
    "# แสดงตัวอย่างข้อมูล 5 แถวแรก\n",
    "print(\"🔹 ตัวอย่างข้อมูล:\")\n",
    "print(df.head())"
   ]
  },
  {
   "cell_type": "code",
   "execution_count": 12,
   "id": "6382c576",
   "metadata": {},
   "outputs": [
    {
     "name": "stdout",
     "output_type": "stream",
     "text": [
      "✅ Train set: 56000 แถว\n",
      "✅ Test set: 24000 แถว\n"
     ]
    }
   ],
   "source": [
    "from sklearn.model_selection import train_test_split\n",
    "\n",
    "# ต่อจากนี้จะทำการ Split data\n",
    "\n",
    "# 🔹 แยก Features กับ Target\n",
    "X = df.drop('Status', axis=1)  # ทุก column ยกเว้น 'Status'\n",
    "y = df['Status']               # Target คือ Status (1 = รดน้ำ, 0 = ไม่รด)\n",
    "\n",
    "# 🔹 แบ่งชุด Train (60%) และ Test (40%)\n",
    "X_train, X_test, y_train, y_test = train_test_split(X, y, test_size=0.3, random_state=42)\n",
    "\n",
    "# ✅ สรุปผลลัพธ์การแบ่งข้อมูล\n",
    "print(f\"✅ Train set: {X_train.shape[0]} แถว\")\n",
    "print(f\"✅ Test set: {X_test.shape[0]} แถว\")"
   ]
  },
  {
   "cell_type": "code",
   "execution_count": 13,
   "id": "ac87b8d3",
   "metadata": {},
   "outputs": [
    {
     "name": "stdout",
     "output_type": "stream",
     "text": [
      "✅ บันทึกไฟล์ X/y_train, test ครบแล้ว\n"
     ]
    }
   ],
   "source": [
    "# เซฟชุด Train\n",
    "X_train.to_csv(\"X_train.csv\", index=False)\n",
    "y_train.to_csv(\"y_train.csv\", index=False)\n",
    "\n",
    "# เซฟชุด Test\n",
    "X_test.to_csv(\"X_test.csv\", index=False)\n",
    "y_test.to_csv(\"y_test.csv\", index=False)\n",
    "\n",
    "print(\"✅ บันทึกไฟล์ X/y_train, test ครบแล้ว\")"
   ]
  }
 ],
 "metadata": {
  "kernelspec": {
   "display_name": "Python 3",
   "language": "python",
   "name": "python3"
  },
  "language_info": {
   "codemirror_mode": {
    "name": "ipython",
    "version": 3
   },
   "file_extension": ".py",
   "mimetype": "text/x-python",
   "name": "python",
   "nbconvert_exporter": "python",
   "pygments_lexer": "ipython3",
   "version": "3.11.9"
  }
 },
 "nbformat": 4,
 "nbformat_minor": 5
}
