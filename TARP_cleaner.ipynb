{
 "cells": [
  {
   "cell_type": "code",
   "execution_count": 1,
   "id": "42b4fb73",
   "metadata": {},
   "outputs": [],
   "source": [
    "import pandas as pd\n",
    "\n",
    "# โหลด Dataset\n",
    "df = pd.read_csv(\"TARP.csv\")\n"
   ]
  },
  {
   "cell_type": "code",
   "execution_count": 2,
   "id": "5be91b4b",
   "metadata": {},
   "outputs": [
    {
     "name": "stdout",
     "output_type": "stream",
     "text": [
      "🔹 ตัวอย่างข้อมูล:\n",
      "   Soil Moisture  Temperature   Soil Humidity  Time  Air temperature (C)  \\\n",
      "0             54           22              70    21                19.52   \n",
      "1             12           20              40   104                19.49   \n",
      "2             34           26              35    62                19.47   \n",
      "3              7           44              44    93                19.54   \n",
      "4             50           38              23    92                19.61   \n",
      "\n",
      "   Wind speed (Km/h)  Air humidity (%)  Wind gust (Km/h)  Pressure (KPa)  \\\n",
      "0               2.13             55.04              6.30          101.50   \n",
      "1               2.01             55.17             10.46          101.50   \n",
      "2               1.90             55.30             14.63          101.51   \n",
      "3               2.28             54.20             16.08          101.51   \n",
      "4               2.66             53.09             17.52          101.51   \n",
      "\n",
      "         ph    rainfall     N     P     K Status  \n",
      "0  6.502985  202.935536  90.0  42.0  43.0     ON  \n",
      "1  7.038096  226.655537  85.0  58.0  41.0    OFF  \n",
      "2  7.840207  263.964248  60.0  55.0  44.0     ON  \n",
      "3  6.980401  242.864034  74.0  35.0  40.0    OFF  \n",
      "4  7.628473  262.717340  78.0  42.0  42.0    OFF  \n",
      "🔹 จำนวนข้อมูลทั้งหมด: 100000 แถว\n",
      "🔹 จำนวน features : 15 คอลัมน์\n"
     ]
    }
   ],
   "source": [
    "# แสดงตัวอย่างข้อมูล 5 แถวแรก\n",
    "print(\"🔹 ตัวอย่างข้อมูล:\")\n",
    "print(df.head())\n",
    "\n",
    "print(f\"🔹 จำนวนข้อมูลทั้งหมด: {df.shape[0]} แถว\")\n",
    "\n",
    "print(f\"🔹 จำนวน features : {df.shape[1]} คอลัมน์\")"
   ]
  },
  {
   "cell_type": "code",
   "execution_count": 3,
   "id": "795523bd",
   "metadata": {},
   "outputs": [],
   "source": [
    "# ลบคอลัมน์ที่มี NaN เกิน 70%\n",
    "df_reduced = df.loc[:, df.isnull().mean() < 0.7]\n",
    "\n",
    "# เติมค่า NaN ที่เหลือด้วยค่าเฉลี่ย (เฉพาะคอลัมน์ที่เป็นตัวเลข)\n",
    "df_cleaned_final = df_reduced.fillna(df_reduced.mean(numeric_only=True))"
   ]
  },
  {
   "cell_type": "code",
   "execution_count": 4,
   "id": "61cb2b50",
   "metadata": {},
   "outputs": [
    {
     "name": "stdout",
     "output_type": "stream",
     "text": [
      "🔹 ตัวอย่างข้อมูล:\n",
      "   Soil Moisture  Temperature   Soil Humidity  Time Status\n",
      "0             54           22              70    21     ON\n",
      "1             12           20              40   104    OFF\n",
      "2             34           26              35    62     ON\n",
      "3              7           44              44    93    OFF\n",
      "4             50           38              23    92    OFF\n",
      "🔹 จำนวนข้อมูลทั้งหมด: 100000 แถว\n",
      "🔹 จำนวน features : 5 คอลัมน์\n"
     ]
    }
   ],
   "source": [
    "# แสดงตัวอย่างข้อมูล 5 แถวแรก\n",
    "print(\"🔹 ตัวอย่างข้อมูล:\")\n",
    "print(df_cleaned_final.head())\n",
    "\n",
    "print(f\"🔹 จำนวนข้อมูลทั้งหมด: {df_cleaned_final.shape[0]} แถว\")\n",
    "\n",
    "print(f\"🔹 จำนวน features : {df_cleaned_final.shape[1]} คอลัมน์\")"
   ]
  },
  {
   "cell_type": "code",
   "execution_count": 5,
   "id": "06510e16",
   "metadata": {},
   "outputs": [],
   "source": [
    "# บันทึกไฟล์ใหม่\n",
    "df_cleaned_final.to_csv(\"TARP_ready-to-use.csv\", index=False)"
   ]
  }
 ],
 "metadata": {
  "kernelspec": {
   "display_name": "Python 3",
   "language": "python",
   "name": "python3"
  },
  "language_info": {
   "codemirror_mode": {
    "name": "ipython",
    "version": 3
   },
   "file_extension": ".py",
   "mimetype": "text/x-python",
   "name": "python",
   "nbconvert_exporter": "python",
   "pygments_lexer": "ipython3",
   "version": "3.11.9"
  }
 },
 "nbformat": 4,
 "nbformat_minor": 5
}
