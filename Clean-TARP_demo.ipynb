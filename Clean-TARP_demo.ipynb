{
 "cells": [
  {
   "cell_type": "code",
   "execution_count": 8,
   "id": "cf0b4df5",
   "metadata": {},
   "outputs": [],
   "source": [
    "import pandas as pd\n",
    "\n",
    "# โหลดไฟล์ TARP_demo_20percent.csv\n",
    "demo_df = pd.read_csv(\"TARP_demo_20percent.csv\")"
   ]
  },
  {
   "cell_type": "code",
   "execution_count": 9,
   "id": "4ba92773",
   "metadata": {},
   "outputs": [],
   "source": [
    "# ลบคอลัมน์ 'Status' ถ้ามีอยู่\n",
    "if 'Status' in demo_df.columns:\n",
    "    demo_df = demo_df.drop(columns=['Status'])"
   ]
  },
  {
   "cell_type": "code",
   "execution_count": 10,
   "id": "202d4376",
   "metadata": {},
   "outputs": [
    {
     "name": "stdout",
     "output_type": "stream",
     "text": [
      "🔹 ตัวอย่างข้อมูล:\n",
      "   Soil Moisture  Temperature   Soil Humidity  Time\n",
      "0             22           41              56    59\n",
      "1             51           32              37     1\n",
      "2              6           28              58    33\n",
      "3             33           24              36    75\n",
      "4             28           25              48    13\n",
      "\n",
      "🔹 ข้อมูลเบื้องต้น:\n",
      "<class 'pandas.core.frame.DataFrame'>\n",
      "RangeIndex: 20000 entries, 0 to 19999\n",
      "Data columns (total 4 columns):\n",
      " #   Column          Non-Null Count  Dtype\n",
      "---  ------          --------------  -----\n",
      " 0   Soil Moisture   20000 non-null  int64\n",
      " 1   Temperature     20000 non-null  int64\n",
      " 2    Soil Humidity  20000 non-null  int64\n",
      " 3   Time            20000 non-null  int64\n",
      "dtypes: int64(4)\n",
      "memory usage: 625.1 KB\n",
      "None\n",
      "🔹 จำนวนข้อมูลทั้งหมด: 20000 แถว\n"
     ]
    }
   ],
   "source": [
    "# แสดงตัวอย่างข้อมูล 5 แถวแรก ของ remaining\n",
    "print(\"🔹 ตัวอย่างข้อมูล:\")\n",
    "print(demo_df.head())\n",
    "\n",
    "# ดูข้อมูลสรุป\n",
    "print(\"\\n🔹 ข้อมูลเบื้องต้น:\")\n",
    "print(demo_df.info())\n",
    "\n",
    "print(f\"🔹 จำนวนข้อมูลทั้งหมด: {demo_df.shape[0]} แถว\")"
   ]
  },
  {
   "cell_type": "code",
   "execution_count": 11,
   "id": "1b99b3ad",
   "metadata": {},
   "outputs": [],
   "source": [
    "# เซฟไฟล์ใหม่ที่ไม่มี Status สำหรับใช้ทดสอบกับ Web App\n",
    "demo_df.to_csv(\"New-TARP_demo_20percent_no_status.csv\", index=False)"
   ]
  }
 ],
 "metadata": {
  "kernelspec": {
   "display_name": "Python 3",
   "language": "python",
   "name": "python3"
  },
  "language_info": {
   "codemirror_mode": {
    "name": "ipython",
    "version": 3
   },
   "file_extension": ".py",
   "mimetype": "text/x-python",
   "name": "python",
   "nbconvert_exporter": "python",
   "pygments_lexer": "ipython3",
   "version": "3.11.9"
  }
 },
 "nbformat": 4,
 "nbformat_minor": 5
}
