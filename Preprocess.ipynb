{
 "cells": [
  {
   "cell_type": "code",
   "execution_count": 15,
   "id": "8fef7e4b",
   "metadata": {},
   "outputs": [
    {
     "name": "stdout",
     "output_type": "stream",
     "text": [
      "Requirement already satisfied: pandas in c:\\users\\acer\\appdata\\local\\packages\\pythonsoftwarefoundation.python.3.11_qbz5n2kfra8p0\\localcache\\local-packages\\python311\\site-packages (2.2.3)\n",
      "Requirement already satisfied: scikit-learn in c:\\users\\acer\\appdata\\local\\packages\\pythonsoftwarefoundation.python.3.11_qbz5n2kfra8p0\\localcache\\local-packages\\python311\\site-packages (1.6.1)\n",
      "Requirement already satisfied: matplotlib in c:\\users\\acer\\appdata\\local\\packages\\pythonsoftwarefoundation.python.3.11_qbz5n2kfra8p0\\localcache\\local-packages\\python311\\site-packages (3.10.0)\n",
      "Requirement already satisfied: numpy>=1.23.2 in c:\\users\\acer\\appdata\\local\\packages\\pythonsoftwarefoundation.python.3.11_qbz5n2kfra8p0\\localcache\\local-packages\\python311\\site-packages (from pandas) (2.2.2)\n",
      "Requirement already satisfied: python-dateutil>=2.8.2 in c:\\users\\acer\\appdata\\local\\packages\\pythonsoftwarefoundation.python.3.11_qbz5n2kfra8p0\\localcache\\local-packages\\python311\\site-packages (from pandas) (2.9.0.post0)\n",
      "Requirement already satisfied: pytz>=2020.1 in c:\\users\\acer\\appdata\\local\\packages\\pythonsoftwarefoundation.python.3.11_qbz5n2kfra8p0\\localcache\\local-packages\\python311\\site-packages (from pandas) (2025.2)\n",
      "Requirement already satisfied: tzdata>=2022.7 in c:\\users\\acer\\appdata\\local\\packages\\pythonsoftwarefoundation.python.3.11_qbz5n2kfra8p0\\localcache\\local-packages\\python311\\site-packages (from pandas) (2025.2)\n",
      "Requirement already satisfied: scipy>=1.6.0 in c:\\users\\acer\\appdata\\local\\packages\\pythonsoftwarefoundation.python.3.11_qbz5n2kfra8p0\\localcache\\local-packages\\python311\\site-packages (from scikit-learn) (1.15.1)\n",
      "Requirement already satisfied: joblib>=1.2.0 in c:\\users\\acer\\appdata\\local\\packages\\pythonsoftwarefoundation.python.3.11_qbz5n2kfra8p0\\localcache\\local-packages\\python311\\site-packages (from scikit-learn) (1.5.1)\n",
      "Requirement already satisfied: threadpoolctl>=3.1.0 in c:\\users\\acer\\appdata\\local\\packages\\pythonsoftwarefoundation.python.3.11_qbz5n2kfra8p0\\localcache\\local-packages\\python311\\site-packages (from scikit-learn) (3.6.0)\n",
      "Requirement already satisfied: contourpy>=1.0.1 in c:\\users\\acer\\appdata\\local\\packages\\pythonsoftwarefoundation.python.3.11_qbz5n2kfra8p0\\localcache\\local-packages\\python311\\site-packages (from matplotlib) (1.3.1)\n",
      "Requirement already satisfied: cycler>=0.10 in c:\\users\\acer\\appdata\\local\\packages\\pythonsoftwarefoundation.python.3.11_qbz5n2kfra8p0\\localcache\\local-packages\\python311\\site-packages (from matplotlib) (0.12.1)\n",
      "Requirement already satisfied: fonttools>=4.22.0 in c:\\users\\acer\\appdata\\local\\packages\\pythonsoftwarefoundation.python.3.11_qbz5n2kfra8p0\\localcache\\local-packages\\python311\\site-packages (from matplotlib) (4.56.0)\n",
      "Requirement already satisfied: kiwisolver>=1.3.1 in c:\\users\\acer\\appdata\\local\\packages\\pythonsoftwarefoundation.python.3.11_qbz5n2kfra8p0\\localcache\\local-packages\\python311\\site-packages (from matplotlib) (1.4.8)\n",
      "Requirement already satisfied: packaging>=20.0 in c:\\users\\acer\\appdata\\local\\packages\\pythonsoftwarefoundation.python.3.11_qbz5n2kfra8p0\\localcache\\local-packages\\python311\\site-packages (from matplotlib) (24.2)\n",
      "Requirement already satisfied: pillow>=8 in c:\\users\\acer\\appdata\\local\\packages\\pythonsoftwarefoundation.python.3.11_qbz5n2kfra8p0\\localcache\\local-packages\\python311\\site-packages (from matplotlib) (11.1.0)\n",
      "Requirement already satisfied: pyparsing>=2.3.1 in c:\\users\\acer\\appdata\\local\\packages\\pythonsoftwarefoundation.python.3.11_qbz5n2kfra8p0\\localcache\\local-packages\\python311\\site-packages (from matplotlib) (3.2.1)\n",
      "Requirement already satisfied: six>=1.5 in c:\\users\\acer\\appdata\\local\\packages\\pythonsoftwarefoundation.python.3.11_qbz5n2kfra8p0\\localcache\\local-packages\\python311\\site-packages (from python-dateutil>=2.8.2->pandas) (1.17.0)\n",
      "Note: you may need to restart the kernel to use updated packages.\n"
     ]
    },
    {
     "name": "stderr",
     "output_type": "stream",
     "text": [
      "\n",
      "[notice] A new release of pip is available: 24.0 -> 25.1.1\n",
      "[notice] To update, run: C:\\Users\\ACER\\AppData\\Local\\Microsoft\\WindowsApps\\PythonSoftwareFoundation.Python.3.11_qbz5n2kfra8p0\\python.exe -m pip install --upgrade pip\n"
     ]
    }
   ],
   "source": [
    "pip install pandas scikit-learn matplotlib"
   ]
  },
  {
   "cell_type": "code",
   "execution_count": 16,
   "id": "86daa4f8",
   "metadata": {},
   "outputs": [],
   "source": [
    "import pandas as pd\n",
    "\n",
    "# โหลด Dataset\n",
    "df = pd.read_csv(\"TARP_ready-to-use.csv\")"
   ]
  },
  {
   "cell_type": "code",
   "execution_count": 17,
   "id": "c042c451",
   "metadata": {},
   "outputs": [
    {
     "name": "stdout",
     "output_type": "stream",
     "text": [
      "🔹 ตัวอย่างข้อมูล:\n",
      "   Soil Moisture  Temperature   Soil Humidity  Time Status\n",
      "0             54           22              70    21     ON\n",
      "1             12           20              40   104    OFF\n",
      "2             34           26              35    62     ON\n",
      "3              7           44              44    93    OFF\n",
      "4             50           38              23    92    OFF\n",
      "\n",
      "🔹 ข้อมูลเบื้องต้น:\n",
      "<class 'pandas.core.frame.DataFrame'>\n",
      "RangeIndex: 100000 entries, 0 to 99999\n",
      "Data columns (total 5 columns):\n",
      " #   Column          Non-Null Count   Dtype \n",
      "---  ------          --------------   ----- \n",
      " 0   Soil Moisture   100000 non-null  int64 \n",
      " 1   Temperature     100000 non-null  int64 \n",
      " 2    Soil Humidity  100000 non-null  int64 \n",
      " 3   Time            100000 non-null  int64 \n",
      " 4   Status          100000 non-null  object\n",
      "dtypes: int64(4), object(1)\n",
      "memory usage: 3.8+ MB\n",
      "None\n",
      "\n",
      "🔹 มีค่าว่างหรือไม่:\n",
      "Soil Moisture     0\n",
      "Temperature       0\n",
      " Soil Humidity    0\n",
      "Time              0\n",
      "Status            0\n",
      "dtype: int64\n",
      "🔹 จำนวนข้อมูลทั้งหมด: 100000 แถว\n",
      "🔹 จำนวน features : 5 คอลัมน์\n"
     ]
    }
   ],
   "source": [
    "# แสดงตัวอย่างข้อมูล 5 แถวแรก\n",
    "print(\"🔹 ตัวอย่างข้อมูล:\")\n",
    "print(df.head())\n",
    "\n",
    "# ดูข้อมูลสรุป\n",
    "print(\"\\n🔹 ข้อมูลเบื้องต้น:\")\n",
    "print(df.info())\n",
    "\n",
    "# ตรวจสอบค่าว่าง\n",
    "print(\"\\n🔹 มีค่าว่างหรือไม่:\")\n",
    "print(df.isnull().sum())\n",
    "\n",
    "# ตรวจสอบจำนวนข้อมูลทั้งหมด\n",
    "print(f\"🔹 จำนวนข้อมูลทั้งหมด: {df.shape[0]} แถว\")\n",
    "print(f\"🔹 จำนวน features : {df.shape[1]} คอลัมน์\")"
   ]
  },
  {
   "cell_type": "code",
   "execution_count": 18,
   "id": "90b9d6f7",
   "metadata": {},
   "outputs": [],
   "source": [
    "# คำนวณจำนวน 20% ของข้อมูล\n",
    "sample_size = int(len(df) * 0.2)\n",
    "\n",
    "# สุ่มข้อมูล 20% สำหรับใช้เป็น demo set\n",
    "demo_df = df.sample(n=sample_size, random_state=42)\n",
    "\n",
    "# ลบข้อมูล demo ออกจาก dataset หลัก\n",
    "remaining_df = df.drop(demo_df.index)"
   ]
  },
  {
   "cell_type": "code",
   "execution_count": 19,
   "id": "3a1da162",
   "metadata": {},
   "outputs": [
    {
     "name": "stdout",
     "output_type": "stream",
     "text": [
      "🔹 ตัวอย่างข้อมูล:\n",
      "   Soil Moisture  Temperature   Soil Humidity  Time Status\n",
      "0             54           22              70    21     ON\n",
      "1             12           20              40   104    OFF\n",
      "2             34           26              35    62     ON\n",
      "3              7           44              44    93    OFF\n",
      "4             50           38              23    92    OFF\n",
      "\n",
      "🔹 ข้อมูลเบื้องต้น:\n",
      "<class 'pandas.core.frame.DataFrame'>\n",
      "Index: 80000 entries, 0 to 99998\n",
      "Data columns (total 5 columns):\n",
      " #   Column          Non-Null Count  Dtype \n",
      "---  ------          --------------  ----- \n",
      " 0   Soil Moisture   80000 non-null  int64 \n",
      " 1   Temperature     80000 non-null  int64 \n",
      " 2    Soil Humidity  80000 non-null  int64 \n",
      " 3   Time            80000 non-null  int64 \n",
      " 4   Status          80000 non-null  object\n",
      "dtypes: int64(4), object(1)\n",
      "memory usage: 3.7+ MB\n",
      "None\n",
      "🔹 จำนวนข้อมูลทั้งหมด: 80000 แถว\n"
     ]
    }
   ],
   "source": [
    "# แสดงตัวอย่างข้อมูล 5 แถวแรก ของ remaining\n",
    "print(\"🔹 ตัวอย่างข้อมูล:\")\n",
    "print(remaining_df.head())\n",
    "\n",
    "# ดูข้อมูลสรุป\n",
    "print(\"\\n🔹 ข้อมูลเบื้องต้น:\")\n",
    "print(remaining_df.info())\n",
    "\n",
    "print(f\"🔹 จำนวนข้อมูลทั้งหมด: {remaining_df.shape[0]} แถว\")"
   ]
  },
  {
   "cell_type": "code",
   "execution_count": 20,
   "id": "d6a9a00f",
   "metadata": {},
   "outputs": [
    {
     "name": "stdout",
     "output_type": "stream",
     "text": [
      "🔹 ตัวอย่างข้อมูล:\n",
      "       Soil Moisture  Temperature   Soil Humidity  Time Status\n",
      "75721             22           41              56    59     ON\n",
      "80184             51           32              37     1     ON\n",
      "19864              6           28              58    33     ON\n",
      "76699             33           24              36    75     ON\n",
      "92991             28           25              48    13    OFF\n",
      "\n",
      "🔹 ข้อมูลเบื้องต้น:\n",
      "<class 'pandas.core.frame.DataFrame'>\n",
      "Index: 20000 entries, 75721 to 42410\n",
      "Data columns (total 5 columns):\n",
      " #   Column          Non-Null Count  Dtype \n",
      "---  ------          --------------  ----- \n",
      " 0   Soil Moisture   20000 non-null  int64 \n",
      " 1   Temperature     20000 non-null  int64 \n",
      " 2    Soil Humidity  20000 non-null  int64 \n",
      " 3   Time            20000 non-null  int64 \n",
      " 4   Status          20000 non-null  object\n",
      "dtypes: int64(4), object(1)\n",
      "memory usage: 937.5+ KB\n",
      "None\n",
      "🔹 จำนวนข้อมูลทั้งหมด: 20000 แถว\n"
     ]
    }
   ],
   "source": [
    "# แสดงตัวอย่างข้อมูล 5 แถวแรก ของ demo\n",
    "print(\"🔹 ตัวอย่างข้อมูล:\")\n",
    "print(demo_df.head())\n",
    "\n",
    "# ดูข้อมูลสรุป\n",
    "print(\"\\n🔹 ข้อมูลเบื้องต้น:\")\n",
    "print(demo_df.info())\n",
    "\n",
    "print(f\"🔹 จำนวนข้อมูลทั้งหมด: {demo_df.shape[0]} แถว\")"
   ]
  },
  {
   "cell_type": "code",
   "execution_count": 21,
   "id": "57cb06da",
   "metadata": {},
   "outputs": [],
   "source": [
    "# บันทึกเป็นไฟล์ CSV แยกออกมา\n",
    "demo_df.to_csv(\"TARP_demo_20percent.csv\", index=False)\n",
    "remaining_df.to_csv(\"TARP_remaining_80percent.csv\", index=False)"
   ]
  }
 ],
 "metadata": {
  "kernelspec": {
   "display_name": "Python 3",
   "language": "python",
   "name": "python3"
  },
  "language_info": {
   "codemirror_mode": {
    "name": "ipython",
    "version": 3
   },
   "file_extension": ".py",
   "mimetype": "text/x-python",
   "name": "python",
   "nbconvert_exporter": "python",
   "pygments_lexer": "ipython3",
   "version": "3.11.9"
  }
 },
 "nbformat": 4,
 "nbformat_minor": 5
}
